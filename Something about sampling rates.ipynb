{
 "cells": [
  {
   "cell_type": "markdown",
   "metadata": {},
   "source": [
    "* Sound waves are continuous. There is a particular air pressure at every moment in time which is just a little different from every other moment in time.\n",
    "* However computers cannot deal with continuous signals that well. So instead we approximate the sound wave by a set of measurements at different points in time.\n",
    "* We refer to these measurements as **samples**, and the rate by which they occur in time as the **sampling rate** (samples per time). Typically that's a very high number, like 44100 per second, i.e. 44.1 kHz.\n",
    "* The higher the sampling rate, the more it will approximate the real, continuous sound wave. The better it will sound."
   ]
  },
  {
   "cell_type": "code",
   "execution_count": null,
   "metadata": {},
   "outputs": [],
   "source": [
    "from IPython.display import Image\n",
    "Image(filename='src/reconstructing-the-original-signal.jpeg') ## source: https://www.izotope.com/en/learn"
   ]
  },
  {
   "cell_type": "code",
   "execution_count": null,
   "metadata": {},
   "outputs": [],
   "source": [
    "%pylab inline\n",
    "import numpy as np\n",
    "from IPython.display import Audio, display"
   ]
  },
  {
   "cell_type": "code",
   "execution_count": null,
   "metadata": {},
   "outputs": [],
   "source": [
    "SR = 44100\n",
    "#SR = 2000\n",
    "#SR = 950\n",
    "#SR = 800\n",
    "#SR = 700\n",
    "f = 440\n",
    "t = arange(0,1,1/SR)\n",
    "signal = np.sin(2*pi*f*t)\n",
    "\n",
    "plot(t,signal)\n",
    "xlim(0,.005)\n",
    "\n",
    "display(Audio(data=signal, rate=SR))"
   ]
  },
  {
   "cell_type": "code",
   "execution_count": null,
   "metadata": {},
   "outputs": [],
   "source": [
    "## Advanced\n",
    "\n",
    "SRs = [44100,2000,800,700]\n",
    "\n",
    "f = 440\n",
    "\n",
    "t_hires = arange(0,1,1/max(SRs))\n",
    "s_hires = np.sin(2*pi*f*t_hires)\n",
    "\n",
    "fig,axs = subplots(len(SRs),1,sharex=True,figsize=(8,8))\n",
    "for ax,SR in zip(axs,SRs):\n",
    "    t = arange(0,1,1/SR)\n",
    "    signal = np.sin(2*pi*f*t)\n",
    "    ax.plot(t_hires,s_hires,color='gray')\n",
    "    ax.plot(t,signal,'o-',color='blue')\n",
    "    ax.set_xlim(0,.005)\n",
    "    ax.set_title(\"rate = %.0f Hz\"%SR)\n",
    "tight_layout()"
   ]
  },
  {
   "cell_type": "markdown",
   "metadata": {},
   "source": [
    "### Summary what we have learned\n",
    "\n",
    "* Sound waves are variations in air pressure over time.\n",
    "* Although sound waves are continuous, we measure them in discrete samples, at a particular sampling rate (samples per time)"
   ]
  },
  {
   "cell_type": "code",
   "execution_count": null,
   "metadata": {},
   "outputs": [],
   "source": []
  }
 ],
 "metadata": {
  "kernelspec": {
   "display_name": "Python 3",
   "language": "python",
   "name": "python3"
  },
  "language_info": {
   "codemirror_mode": {
    "name": "ipython",
    "version": 3
   },
   "file_extension": ".py",
   "mimetype": "text/x-python",
   "name": "python",
   "nbconvert_exporter": "python",
   "pygments_lexer": "ipython3",
   "version": "3.8.10"
  }
 },
 "nbformat": 4,
 "nbformat_minor": 4
}
