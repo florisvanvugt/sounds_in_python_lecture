{
 "cells": [
  {
   "cell_type": "code",
   "execution_count": null,
   "id": "32d6fb57",
   "metadata": {},
   "outputs": [],
   "source": [
    "# The bureaucratics\n",
    "%pylab inline\n",
    "#import matplotlib.pyplot as plt\n",
    "import numpy as np\n",
    "import ipywidgets\n",
    "from ipywidgets import interactive\n",
    "from IPython.display import Audio, Image, Video, display, clear_output\n",
    "from IPython.core.display import HTML \n",
    "import scipy.io.wavfile\n",
    "import scipy.signal"
   ]
  },
  {
   "cell_type": "markdown",
   "id": "993bf397",
   "metadata": {},
   "source": [
    "# Task 1 : create a single \"tick\" (click) sound"
   ]
  },
  {
   "cell_type": "code",
   "execution_count": null,
   "id": "3c65ffa0",
   "metadata": {},
   "outputs": [],
   "source": [
    "## Creating a basic sine wave\n",
    "\n",
    "f = 342.1\n",
    "SR = 44100\n",
    "dur = .1 # seconds\n",
    "t = arange(0,dur,1/SR)\n",
    "click = np.sin(2*pi*f*t)\n",
    "display(Audio(data=click, rate=SR))"
   ]
  },
  {
   "cell_type": "code",
   "execution_count": null,
   "id": "d852a68b",
   "metadata": {},
   "outputs": [],
   "source": [
    "plot(t,click)"
   ]
  },
  {
   "cell_type": "markdown",
   "id": "c98653af",
   "metadata": {},
   "source": [
    "**Task 1a: fade in and fade out this sound**"
   ]
  },
  {
   "cell_type": "markdown",
   "id": "26b61960",
   "metadata": {},
   "source": [
    "# Task 2 : merge the \"tick\" sounds into a single track"
   ]
  },
  {
   "cell_type": "code",
   "execution_count": null,
   "id": "a34cc40c",
   "metadata": {},
   "outputs": [],
   "source": [
    "n_click = 100 # how many clicks we want in this track (one after the other)\n",
    "bpm = 60 # how many clicks per minute (BPM)"
   ]
  },
  {
   "cell_type": "code",
   "execution_count": null,
   "id": "0d7389b0",
   "metadata": {},
   "outputs": [],
   "source": [
    "# inter-onset-interval (IOI) of the clicks\n",
    "ioi = 60/bpm    # TODO: Lindsey check this"
   ]
  },
  {
   "cell_type": "code",
   "execution_count": null,
   "id": "8452b01c",
   "metadata": {},
   "outputs": [],
   "source": [
    "ioi # in seconds"
   ]
  },
  {
   "cell_type": "code",
   "execution_count": null,
   "id": "757f3d74",
   "metadata": {},
   "outputs": [],
   "source": [
    "period = [] # click + silence ## TODO: Lindsey exercise"
   ]
  },
  {
   "cell_type": "code",
   "execution_count": null,
   "id": "60b632e8",
   "metadata": {},
   "outputs": [],
   "source": [
    "track = np.concatenate([period]*n_click)"
   ]
  },
  {
   "cell_type": "markdown",
   "id": "1cdb4bb0",
   "metadata": {},
   "source": [
    "# Task 3 : create two (possibly different) click tracks into a stereo sound"
   ]
  },
  {
   "cell_type": "code",
   "execution_count": null,
   "id": "9c1b204f",
   "metadata": {},
   "outputs": [],
   "source": [
    "def create_click_track(n_click,bpm):\n",
    "    return zeros(100) # TODO: replace with actual sound; Lindsey\n",
    "\n",
    "track1 = create_click_track(100,60)\n",
    "track2 = create_click_track(100,70)"
   ]
  },
  {
   "cell_type": "code",
   "execution_count": null,
   "id": "9284e9db",
   "metadata": {},
   "outputs": [],
   "source": [
    "stereo = array([track1,track2])"
   ]
  },
  {
   "cell_type": "code",
   "execution_count": null,
   "id": "b094738a",
   "metadata": {},
   "outputs": [],
   "source": [
    "stereo"
   ]
  },
  {
   "cell_type": "code",
   "execution_count": null,
   "id": "42da0db0",
   "metadata": {},
   "outputs": [],
   "source": [
    "scipy.io.wavfile.write('combined.wav',SR,stereo)"
   ]
  }
 ],
 "metadata": {
  "kernelspec": {
   "display_name": "Python 3 (ipykernel)",
   "language": "python",
   "name": "python3"
  },
  "language_info": {
   "codemirror_mode": {
    "name": "ipython",
    "version": 3
   },
   "file_extension": ".py",
   "mimetype": "text/x-python",
   "name": "python",
   "nbconvert_exporter": "python",
   "pygments_lexer": "ipython3",
   "version": "3.8.10"
  }
 },
 "nbformat": 4,
 "nbformat_minor": 5
}
